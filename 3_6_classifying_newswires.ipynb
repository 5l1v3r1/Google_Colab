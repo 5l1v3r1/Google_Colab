{
  "nbformat": 4,
  "nbformat_minor": 0,
  "metadata": {
    "colab": {
      "name": "3.6-classifying-newswires.ipynb",
      "version": "0.3.2",
      "provenance": [],
      "collapsed_sections": []
    },
    "kernelspec": {
      "display_name": "Python 3",
      "language": "python",
      "name": "python3"
    }
  },
  "cells": [
    {
      "cell_type": "markdown",
      "metadata": {
        "id": "view-in-github",
        "colab_type": "text"
      },
      "source": [
        "[View in Colaboratory](https://colab.research.google.com/github/alzayats/Google_Colab/blob/master/3_6_classifying_newswires.ipynb)"
      ]
    },
    {
      "metadata": {
        "id": "IjFPj6J5EVrI",
        "colab_type": "code",
        "colab": {
          "base_uri": "https://localhost:8080/",
          "height": 51
        },
        "outputId": "8c0c4c06-8779-4601-94e1-11b4728bb0cd"
      },
      "cell_type": "code",
      "source": [
        "import keras\n",
        "keras.__version__"
      ],
      "execution_count": 1,
      "outputs": [
        {
          "output_type": "stream",
          "text": [
            "Using TensorFlow backend.\n"
          ],
          "name": "stderr"
        },
        {
          "output_type": "execute_result",
          "data": {
            "text/plain": [
              "'2.1.6'"
            ]
          },
          "metadata": {
            "tags": []
          },
          "execution_count": 1
        }
      ]
    },
    {
      "metadata": {
        "id": "VFG6jPbMEVsZ",
        "colab_type": "text"
      },
      "cell_type": "markdown",
      "source": [
        "# Classifying newswires: a multi-class classification example\n",
        "\n",
        "This notebook contains the code samples found in Chapter 3, Section 5 of [Deep Learning with Python](https://www.manning.com/books/deep-learning-with-python?a_aid=keras&a_bid=76564dff). Note that the original text features far more content, in particular further explanations and figures: in this notebook, you will only find source code and related comments.\n",
        "\n",
        "----\n",
        "\n",
        "In the previous section we saw how to classify vector inputs into two mutually exclusive classes using a densely-connected neural network. \n",
        "But what happens when you have more than two classes? \n",
        "\n",
        "In this section, we will build a network to classify Reuters newswires into 46 different mutually-exclusive topics. Since we have many \n",
        "classes, this problem is an instance of \"multi-class classification\", and since each data point should be classified into only one \n",
        "category, the problem is more specifically an instance of \"single-label, multi-class classification\". If each data point could have \n",
        "belonged to multiple categories (in our case, topics) then we would be facing a \"multi-label, multi-class classification\" problem."
      ]
    },
    {
      "metadata": {
        "id": "HrpMNOifEVsg",
        "colab_type": "text"
      },
      "cell_type": "markdown",
      "source": [
        "## The Reuters dataset\n",
        "\n",
        "\n",
        "We will be working with the _Reuters dataset_, a set of short newswires and their topics, published by Reuters in 1986. It's a very simple, \n",
        "widely used toy dataset for text classification. There are 46 different topics; some topics are more represented than others, but each \n",
        "topic has at least 10 examples in the training set.\n",
        "\n",
        "Like IMDB and MNIST, the Reuters dataset comes packaged as part of Keras. Let's take a look right away:"
      ]
    },
    {
      "metadata": {
        "id": "UxO0_djNEVsy",
        "colab_type": "code",
        "colab": {
          "base_uri": "https://localhost:8080/",
          "height": 51
        },
        "collapsed": true,
        "outputId": "485de1de-3b74-468c-eda8-7db7b90ea1cb"
      },
      "cell_type": "code",
      "source": [
        "from keras.datasets import reuters\n",
        "\n",
        "(train_data, train_labels), (test_data, test_labels) = reuters.load_data(num_words=10000)"
      ],
      "execution_count": 2,
      "outputs": [
        {
          "output_type": "stream",
          "text": [
            "Downloading data from https://s3.amazonaws.com/text-datasets/reuters.npz\n",
            "2113536/2110848 [==============================] - 0s 0us/step\n"
          ],
          "name": "stdout"
        }
      ]
    },
    {
      "metadata": {
        "id": "MUUGbbg_EVti",
        "colab_type": "text"
      },
      "cell_type": "markdown",
      "source": [
        "\n",
        "Like with the IMDB dataset, the argument `num_words=10000` restricts the data to the 10,000 most frequently occurring words found in the \n",
        "data.\n",
        "\n",
        "We have 8,982 training examples and 2,246 test examples:"
      ]
    },
    {
      "metadata": {
        "id": "F7QQhEmhEVtx",
        "colab_type": "code",
        "colab": {
          "base_uri": "https://localhost:8080/",
          "height": 34
        },
        "outputId": "d3e1528d-dc31-42ae-c7ad-50edcbc6d6c1"
      },
      "cell_type": "code",
      "source": [
        "len(train_data)"
      ],
      "execution_count": 3,
      "outputs": [
        {
          "output_type": "execute_result",
          "data": {
            "text/plain": [
              "8982"
            ]
          },
          "metadata": {
            "tags": []
          },
          "execution_count": 3
        }
      ]
    },
    {
      "metadata": {
        "id": "j2CANhCMEVuV",
        "colab_type": "code",
        "colab": {
          "base_uri": "https://localhost:8080/",
          "height": 34
        },
        "outputId": "50aeb682-3133-4677-947f-f8fd8f1bac30"
      },
      "cell_type": "code",
      "source": [
        "len(test_data)"
      ],
      "execution_count": 4,
      "outputs": [
        {
          "output_type": "execute_result",
          "data": {
            "text/plain": [
              "2246"
            ]
          },
          "metadata": {
            "tags": []
          },
          "execution_count": 4
        }
      ]
    },
    {
      "metadata": {
        "id": "xMgHS0vFEVv4",
        "colab_type": "text"
      },
      "cell_type": "markdown",
      "source": [
        "As with the IMDB reviews, each example is a list of integers (word indices):"
      ]
    },
    {
      "metadata": {
        "id": "HoXwMZxvEVwB",
        "colab_type": "code",
        "colab": {
          "base_uri": "https://localhost:8080/",
          "height": 544
        },
        "outputId": "a802d7b8-2efa-4d11-b560-34e9ca924aff"
      },
      "cell_type": "code",
      "source": [
        "train_data[10]"
      ],
      "execution_count": 5,
      "outputs": [
        {
          "output_type": "execute_result",
          "data": {
            "text/plain": [
              "[1,\n",
              " 245,\n",
              " 273,\n",
              " 207,\n",
              " 156,\n",
              " 53,\n",
              " 74,\n",
              " 160,\n",
              " 26,\n",
              " 14,\n",
              " 46,\n",
              " 296,\n",
              " 26,\n",
              " 39,\n",
              " 74,\n",
              " 2979,\n",
              " 3554,\n",
              " 14,\n",
              " 46,\n",
              " 4689,\n",
              " 4329,\n",
              " 86,\n",
              " 61,\n",
              " 3499,\n",
              " 4795,\n",
              " 14,\n",
              " 61,\n",
              " 451,\n",
              " 4329,\n",
              " 17,\n",
              " 12]"
            ]
          },
          "metadata": {
            "tags": []
          },
          "execution_count": 5
        }
      ]
    },
    {
      "metadata": {
        "id": "LlqaijTaEVwv",
        "colab_type": "text"
      },
      "cell_type": "markdown",
      "source": [
        "Here's how you can decode it back to words, in case you are curious:"
      ]
    },
    {
      "metadata": {
        "id": "g_HKUhQ9EVwz",
        "colab_type": "code",
        "colab": {
          "base_uri": "https://localhost:8080/",
          "height": 51
        },
        "collapsed": true,
        "outputId": "17a0efb9-2714-4db2-b7ff-cd94da6b7276"
      },
      "cell_type": "code",
      "source": [
        "word_index = reuters.get_word_index()\n",
        "reverse_word_index = dict([(value, key) for (key, value) in word_index.items()])\n",
        "# Note that our indices were offset by 3\n",
        "# because 0, 1 and 2 are reserved indices for \"padding\", \"start of sequence\", and \"unknown\".\n",
        "decoded_newswire = ' '.join([reverse_word_index.get(i - 3, '?') for i in train_data[0]])"
      ],
      "execution_count": 6,
      "outputs": [
        {
          "output_type": "stream",
          "text": [
            "Downloading data from https://s3.amazonaws.com/text-datasets/reuters_word_index.json\n",
            "557056/550378 [==============================] - 0s 0us/step\n"
          ],
          "name": "stdout"
        }
      ]
    },
    {
      "metadata": {
        "id": "_ObWWYnAEVxl",
        "colab_type": "code",
        "colab": {
          "base_uri": "https://localhost:8080/",
          "height": 54
        },
        "outputId": "8252bfae-4ac9-4fdb-f051-204c16bb72c1"
      },
      "cell_type": "code",
      "source": [
        "decoded_newswire"
      ],
      "execution_count": 7,
      "outputs": [
        {
          "output_type": "execute_result",
          "data": {
            "text/plain": [
              "'? ? ? said as a result of its december acquisition of space co it expects earnings per share in 1987 of 1 15 to 1 30 dlrs per share up from 70 cts in 1986 the company said pretax net should rise to nine to 10 mln dlrs from six mln dlrs in 1986 and rental operation revenues to 19 to 22 mln dlrs from 12 5 mln dlrs it said cash flow per share this year should be 2 50 to three dlrs reuter 3'"
            ]
          },
          "metadata": {
            "tags": []
          },
          "execution_count": 7
        }
      ]
    },
    {
      "metadata": {
        "id": "vXui891lEVyT",
        "colab_type": "text"
      },
      "cell_type": "markdown",
      "source": [
        "The label associated with an example is an integer between 0 and 45: a topic index."
      ]
    },
    {
      "metadata": {
        "id": "VFIOF2vSEVyf",
        "colab_type": "code",
        "colab": {
          "base_uri": "https://localhost:8080/",
          "height": 34
        },
        "outputId": "9f57063f-ad47-4ce5-bf55-bcbc71ead5ca"
      },
      "cell_type": "code",
      "source": [
        "train_labels[10]"
      ],
      "execution_count": 8,
      "outputs": [
        {
          "output_type": "execute_result",
          "data": {
            "text/plain": [
              "3"
            ]
          },
          "metadata": {
            "tags": []
          },
          "execution_count": 8
        }
      ]
    },
    {
      "metadata": {
        "id": "Yu7S5d1_EVy9",
        "colab_type": "text"
      },
      "cell_type": "markdown",
      "source": [
        "## Preparing the data\n",
        "\n",
        "We can vectorize the data with the exact same code as in our previous example:"
      ]
    },
    {
      "metadata": {
        "id": "TyE7mmSlEVzJ",
        "colab_type": "code",
        "colab": {
          "base_uri": "https://localhost:8080/",
          "height": 136
        },
        "collapsed": true,
        "outputId": "752884ec-6e7c-4565-dd27-eb3e057426c9"
      },
      "cell_type": "code",
      "source": [
        "import numpy as np\n",
        "\n",
        "def vectorize_sequences(sequences, dimension=10000):\n",
        "    results = np.zeros((len(sequences), dimension))\n",
        "    for i, sequence in enumerate(sequences):\n",
        "        results[i, sequence] = 1.\n",
        "    return results\n",
        "\n",
        "# Our vectorized training data\n",
        "x_train = vectorize_sequences(train_data)\n",
        "# Our vectorized test data\n",
        "x_test = vectorize_sequences(test_data)\n",
        "\n",
        "x_train,x_train.shape,x_train.ndim"
      ],
      "execution_count": 9,
      "outputs": [
        {
          "output_type": "execute_result",
          "data": {
            "text/plain": [
              "(array([[0., 1., 1., ..., 0., 0., 0.],\n",
              "        [0., 1., 1., ..., 0., 0., 0.],\n",
              "        [0., 1., 1., ..., 0., 0., 0.],\n",
              "        ...,\n",
              "        [0., 1., 1., ..., 0., 0., 0.],\n",
              "        [0., 1., 1., ..., 0., 0., 0.],\n",
              "        [0., 1., 1., ..., 0., 0., 0.]]), (8982, 10000), 2)"
            ]
          },
          "metadata": {
            "tags": []
          },
          "execution_count": 9
        }
      ]
    },
    {
      "metadata": {
        "id": "f5yuqXaJEV0w",
        "colab_type": "code",
        "colab": {
          "base_uri": "https://localhost:8080/",
          "height": 102
        },
        "collapsed": true,
        "outputId": "bba39e56-c58e-4393-f43f-3f260463209d"
      },
      "cell_type": "code",
      "source": [
        "import numpy as np\n",
        "\n",
        "def vectorize_sequences(sequences, dimension=10):\n",
        "    results = np.zeros((len(sequences), dimension))\n",
        "    for i, sequence in enumerate(sequences):\n",
        "        results[i, sequence] = 1.\n",
        "    return results\n",
        "\n",
        "# # Our vectorized training data\n",
        "# x_train = vectorize_sequences(train_data)\n",
        "# # Our vectorized test data\n",
        "# x_test = vectorize_sequences(test_data)\n",
        "# x_train[0],x_train.shape,x_train.ndim\n",
        "data=[1,2,4,9,0]\n",
        "x= vectorize_sequences(data)\n",
        "x,x.shape,x.ndim"
      ],
      "execution_count": 10,
      "outputs": [
        {
          "output_type": "execute_result",
          "data": {
            "text/plain": [
              "(array([[0., 1., 0., 0., 0., 0., 0., 0., 0., 0.],\n",
              "        [0., 0., 1., 0., 0., 0., 0., 0., 0., 0.],\n",
              "        [0., 0., 0., 0., 1., 0., 0., 0., 0., 0.],\n",
              "        [0., 0., 0., 0., 0., 0., 0., 0., 0., 1.],\n",
              "        [1., 0., 0., 0., 0., 0., 0., 0., 0., 0.]]), (5, 10), 2)"
            ]
          },
          "metadata": {
            "tags": []
          },
          "execution_count": 10
        }
      ]
    },
    {
      "metadata": {
        "id": "L5smTtglEV1z",
        "colab_type": "text"
      },
      "cell_type": "markdown",
      "source": [
        "\n",
        "To vectorize the labels, there are two possibilities: we could just cast the label list as an integer tensor, or we could use a \"one-hot\" \n",
        "encoding. One-hot encoding is a widely used format for categorical data, also called \"categorical encoding\". \n",
        "For a more detailed explanation of one-hot encoding, you can refer to Chapter 6, Section 1. \n",
        "In our case, one-hot encoding of our labels consists in embedding each label as an all-zero vector with a 1 in the place of the label index, e.g.:"
      ]
    },
    {
      "metadata": {
        "id": "jwhiyyePEV16",
        "colab_type": "code",
        "colab": {
          "base_uri": "https://localhost:8080/",
          "height": 136
        },
        "collapsed": true,
        "outputId": "aaf0e205-fd80-4ae9-bd13-5ab6abc3b28f"
      },
      "cell_type": "code",
      "source": [
        "def to_one_hot(labels, dimension=46):\n",
        "    results = np.zeros((len(labels), dimension))\n",
        "    for i, label in enumerate(labels):\n",
        "        results[i, label] = 1.\n",
        "    return results\n",
        "\n",
        "# Our vectorized training labels\n",
        "one_hot_train_labels = to_one_hot(train_labels)\n",
        "# Our vectorized test labels\n",
        "one_hot_test_labels = to_one_hot(test_labels)\n",
        "one_hot_train_labels,one_hot_train_labels.shape,one_hot_train_labels.ndim"
      ],
      "execution_count": 11,
      "outputs": [
        {
          "output_type": "execute_result",
          "data": {
            "text/plain": [
              "(array([[0., 0., 0., ..., 0., 0., 0.],\n",
              "        [0., 0., 0., ..., 0., 0., 0.],\n",
              "        [0., 0., 0., ..., 0., 0., 0.],\n",
              "        ...,\n",
              "        [0., 0., 0., ..., 0., 0., 0.],\n",
              "        [0., 0., 0., ..., 0., 0., 0.],\n",
              "        [0., 0., 0., ..., 0., 0., 0.]]), (8982, 46), 2)"
            ]
          },
          "metadata": {
            "tags": []
          },
          "execution_count": 11
        }
      ]
    },
    {
      "metadata": {
        "id": "Dxvh0NxGEV2X",
        "colab_type": "text"
      },
      "cell_type": "markdown",
      "source": [
        "Note that there is a built-in way to do this in Keras, which you have already seen in action in our MNIST example:"
      ]
    },
    {
      "metadata": {
        "id": "KVk7v5MtEV2a",
        "colab_type": "code",
        "colab": {}
      },
      "cell_type": "code",
      "source": [
        "from keras.utils.np_utils import to_categorical\n",
        "\n",
        "one_hot_train_labels = to_categorical(train_labels)\n",
        "one_hot_test_labels = to_categorical(test_labels)"
      ],
      "execution_count": 0,
      "outputs": []
    },
    {
      "metadata": {
        "id": "xg_C2kDAEV3D",
        "colab_type": "text"
      },
      "cell_type": "markdown",
      "source": [
        "## Building our network\n",
        "\n",
        "\n",
        "This topic classification problem looks very similar to our previous movie review classification problem: in both cases, we are trying to \n",
        "classify short snippets of text. There is however a new constraint here: the number of output classes has gone from 2 to 46, i.e. the \n",
        "dimensionality of the output space is much larger. \n",
        "\n",
        "In a stack of `Dense` layers like what we were using, each layer can only access information present in the output of the previous layer. \n",
        "If one layer drops some information relevant to the classification problem, this information can never be recovered by later layers: each \n",
        "layer can potentially become an \"information bottleneck\". In our previous example, we were using 16-dimensional intermediate layers, but a \n",
        "16-dimensional space may be too limited to learn to separate 46 different classes: such small layers may act as information bottlenecks, \n",
        "permanently dropping relevant information.\n",
        "\n",
        "For this reason we will use larger layers. Let's go with 64 units:"
      ]
    },
    {
      "metadata": {
        "id": "lUuPUvsGEV3I",
        "colab_type": "code",
        "colab": {}
      },
      "cell_type": "code",
      "source": [
        "from keras import models\n",
        "from keras import layers\n",
        "\n",
        "model = models.Sequential()\n",
        "model.add(layers.Dense(64, activation='relu', input_shape=(10000,)))\n",
        "model.add(layers.Dense(64, activation='relu'))\n",
        "model.add(layers.Dense(46, activation='softmax'))"
      ],
      "execution_count": 0,
      "outputs": []
    },
    {
      "metadata": {
        "id": "5liom-efEV3c",
        "colab_type": "text"
      },
      "cell_type": "markdown",
      "source": [
        "\n",
        "There are two other things you should note about this architecture:\n",
        "\n",
        "* We are ending the network with a `Dense` layer of size 46. This means that for each input sample, our network will output a \n",
        "46-dimensional vector. Each entry in this vector (each dimension) will encode a different output class.\n",
        "* The last layer uses a `softmax` activation. You have already seen this pattern in the MNIST example. It means that the network will \n",
        "output a _probability distribution_ over the 46 different output classes, i.e. for every input sample, the network will produce a \n",
        "46-dimensional output vector where `output[i]` is the probability that the sample belongs to class `i`. The 46 scores will sum to 1.\n",
        "\n",
        "The best loss function to use in this case is `categorical_crossentropy`. It measures the distance between two probability distributions: \n",
        "in our case, between the probability distribution output by our network, and the true distribution of the labels. By minimizing the \n",
        "distance between these two distributions, we train our network to output something as close as possible to the true labels."
      ]
    },
    {
      "metadata": {
        "id": "syFOsv2GEV3k",
        "colab_type": "code",
        "colab": {}
      },
      "cell_type": "code",
      "source": [
        "model.compile(optimizer='rmsprop',\n",
        "              loss='categorical_crossentropy',\n",
        "              metrics=['accuracy'])"
      ],
      "execution_count": 0,
      "outputs": []
    },
    {
      "metadata": {
        "id": "NMY2ameEEV35",
        "colab_type": "text"
      },
      "cell_type": "markdown",
      "source": [
        "## Validating our approach\n",
        "\n",
        "Let's set apart 1,000 samples in our training data to use as a validation set:"
      ]
    },
    {
      "metadata": {
        "id": "ooPf6YeOEV3_",
        "colab_type": "code",
        "colab": {}
      },
      "cell_type": "code",
      "source": [
        "x_val = x_train[:1000]\n",
        "partial_x_train = x_train[1000:]\n",
        "\n",
        "y_val = one_hot_train_labels[:1000]\n",
        "partial_y_train = one_hot_train_labels[1000:]"
      ],
      "execution_count": 0,
      "outputs": []
    },
    {
      "metadata": {
        "id": "KdSCAy8jEV4U",
        "colab_type": "text"
      },
      "cell_type": "markdown",
      "source": [
        "Now let's train our network for 20 epochs:"
      ]
    },
    {
      "metadata": {
        "id": "1WACW1nQEV4Z",
        "colab_type": "code",
        "colab": {
          "base_uri": "https://localhost:8080/",
          "height": 734
        },
        "outputId": "1787ed69-93ca-4875-85cb-bf7973b61eae"
      },
      "cell_type": "code",
      "source": [
        "history = model.fit(partial_x_train,\n",
        "                    partial_y_train,\n",
        "                    epochs=20,\n",
        "                    batch_size=512,\n",
        "                    validation_data=(x_val, y_val))"
      ],
      "execution_count": 16,
      "outputs": [
        {
          "output_type": "stream",
          "text": [
            "Train on 7982 samples, validate on 1000 samples\n",
            "Epoch 1/20\n",
            "7982/7982 [==============================] - 1s 148us/step - loss: 2.5351 - acc: 0.4974 - val_loss: 1.7268 - val_acc: 0.6110\n",
            "Epoch 2/20\n",
            "7982/7982 [==============================] - 1s 123us/step - loss: 1.4517 - acc: 0.6872 - val_loss: 1.3523 - val_acc: 0.7070\n",
            "Epoch 3/20\n",
            "7982/7982 [==============================] - 1s 152us/step - loss: 1.1007 - acc: 0.7631 - val_loss: 1.1734 - val_acc: 0.7430\n",
            "Epoch 4/20\n",
            "7982/7982 [==============================] - 1s 149us/step - loss: 0.8735 - acc: 0.8151 - val_loss: 1.0847 - val_acc: 0.7590\n",
            "Epoch 5/20\n",
            "7982/7982 [==============================] - 1s 148us/step - loss: 0.7063 - acc: 0.8472 - val_loss: 0.9861 - val_acc: 0.7820\n",
            "Epoch 6/20\n",
            "7982/7982 [==============================] - 1s 147us/step - loss: 0.5691 - acc: 0.8790 - val_loss: 0.9405 - val_acc: 0.8040\n",
            "Epoch 7/20\n",
            "7982/7982 [==============================] - 1s 147us/step - loss: 0.4602 - acc: 0.9047 - val_loss: 0.9082 - val_acc: 0.8030\n",
            "Epoch 8/20\n",
            "7982/7982 [==============================] - 1s 148us/step - loss: 0.3710 - acc: 0.9232 - val_loss: 0.9364 - val_acc: 0.7910\n",
            "Epoch 9/20\n",
            "6144/7982 [======================>.......] - ETA: 0s - loss: 0.3060 - acc: 0.9312"
          ],
          "name": "stdout"
        },
        {
          "output_type": "stream",
          "text": [
            "7982/7982 [==============================] - 1s 151us/step - loss: 0.3046 - acc: 0.9310 - val_loss: 0.8902 - val_acc: 0.8070\n",
            "Epoch 10/20\n",
            "7982/7982 [==============================] - 1s 148us/step - loss: 0.2555 - acc: 0.9411 - val_loss: 0.9051 - val_acc: 0.8110\n",
            "Epoch 11/20\n",
            "7982/7982 [==============================] - 1s 150us/step - loss: 0.2196 - acc: 0.9474 - val_loss: 0.9172 - val_acc: 0.8120\n",
            "Epoch 12/20\n",
            "7982/7982 [==============================] - 1s 151us/step - loss: 0.1887 - acc: 0.9506 - val_loss: 0.9075 - val_acc: 0.8130\n",
            "Epoch 13/20\n",
            "7982/7982 [==============================] - 1s 150us/step - loss: 0.1710 - acc: 0.9525 - val_loss: 0.9329 - val_acc: 0.8090\n",
            "Epoch 14/20\n",
            "7982/7982 [==============================] - 1s 150us/step - loss: 0.1547 - acc: 0.9554 - val_loss: 0.9651 - val_acc: 0.8050\n",
            "Epoch 15/20\n",
            "7982/7982 [==============================] - 1s 149us/step - loss: 0.1397 - acc: 0.9559 - val_loss: 0.9705 - val_acc: 0.8140\n",
            "Epoch 16/20\n",
            "7982/7982 [==============================] - 1s 151us/step - loss: 0.1322 - acc: 0.9557 - val_loss: 1.0261 - val_acc: 0.8000\n",
            "Epoch 17/20\n",
            "7982/7982 [==============================] - 1s 150us/step - loss: 0.1226 - acc: 0.9573 - val_loss: 1.0206 - val_acc: 0.7960\n",
            "Epoch 18/20\n",
            "1536/7982 [====>.........................] - ETA: 0s - loss: 0.1218 - acc: 0.9583"
          ],
          "name": "stdout"
        },
        {
          "output_type": "stream",
          "text": [
            "7982/7982 [==============================] - 1s 150us/step - loss: 0.1205 - acc: 0.9578 - val_loss: 1.0435 - val_acc: 0.8050\n",
            "Epoch 19/20\n",
            "7982/7982 [==============================] - 1s 148us/step - loss: 0.1148 - acc: 0.9593 - val_loss: 1.0987 - val_acc: 0.7970\n",
            "Epoch 20/20\n",
            "7982/7982 [==============================] - 1s 150us/step - loss: 0.1122 - acc: 0.9598 - val_loss: 1.0735 - val_acc: 0.8000\n"
          ],
          "name": "stdout"
        }
      ]
    },
    {
      "metadata": {
        "id": "IE6wqFCVEV4x",
        "colab_type": "text"
      },
      "cell_type": "markdown",
      "source": [
        "Let's display its loss and accuracy curves:"
      ]
    },
    {
      "metadata": {
        "id": "zr63EK-hEV44",
        "colab_type": "code",
        "colab": {
          "base_uri": "https://localhost:8080/",
          "height": 376
        },
        "outputId": "7608eeb4-97b5-4250-8c7e-1a29d2861a2a"
      },
      "cell_type": "code",
      "source": [
        "import matplotlib.pyplot as plt\n",
        "\n",
        "loss = history.history['loss']\n",
        "val_loss = history.history['val_loss']\n",
        "\n",
        "epochs = range(1, len(loss) + 1)\n",
        "\n",
        "plt.plot(epochs, loss, 'bo', label='Training loss')\n",
        "plt.plot(epochs, val_loss, 'b', label='Validation loss')\n",
        "plt.title('Training and validation loss')\n",
        "plt.xlabel('Epochs')\n",
        "plt.ylabel('Loss')\n",
        "plt.legend()\n",
        "\n",
        "plt.show()"
      ],
      "execution_count": 17,
      "outputs": [
        {
          "output_type": "display_data",
          "data": {
            "image/png": "[encoded data removed]",
            "text/plain": [
              "<matplotlib.figure.Figure at 0x7fdb80e391d0>"
            ]
          },
          "metadata": {
            "tags": []
          }
        }
      ]
    },
    {
      "metadata": {
        "id": "vpHOx6FyEV5U",
        "colab_type": "code",
        "colab": {
          "base_uri": "https://localhost:8080/",
          "height": 376
        },
        "outputId": "752e8397-30a7-4f9a-ea2b-08556151a763"
      },
      "cell_type": "code",
      "source": [
        "plt.clf()   # clear figure\n",
        "\n",
        "acc = history.history['acc']\n",
        "val_acc = history.history['val_acc']\n",
        "\n",
        "plt.plot(epochs, acc, 'bo', label='Training acc')\n",
        "plt.plot(epochs, val_acc, 'b', label='Validation acc')\n",
        "plt.title('Training and validation accuracy')\n",
        "plt.xlabel('Epochs')\n",
        "plt.ylabel('Loss')\n",
        "plt.legend()\n",
        "\n",
        "plt.show()"
      ],
      "execution_count": 18,
      "outputs": [
        {
          "output_type": "display_data",
          "data": {
            "image/png": "[encoded data removed]",
            "text/plain": [
              "<matplotlib.figure.Figure at 0x7fdb810b24e0>"
            ]
          },
          "metadata": {
            "tags": []
          }
        }
      ]
    },
    {
      "metadata": {
        "id": "nTeK5vcoEV5p",
        "colab_type": "text"
      },
      "cell_type": "markdown",
      "source": [
        "It seems that the network starts overfitting after 8 epochs. Let's train a new network from scratch for 8 epochs, then let's evaluate it on \n",
        "the test set:"
      ]
    },
    {
      "metadata": {
        "id": "-NBwTu_aEV50",
        "colab_type": "code",
        "colab": {
          "base_uri": "https://localhost:8080/",
          "height": 323
        },
        "outputId": "91acc08a-ee4d-46a6-bbdc-62c9c93cb71c"
      },
      "cell_type": "code",
      "source": [
        "model = models.Sequential()\n",
        "model.add(layers.Dense(64, activation='relu', input_shape=(10000,)))\n",
        "model.add(layers.Dense(64, activation='relu'))\n",
        "model.add(layers.Dense(46, activation='softmax'))\n",
        "\n",
        "model.compile(optimizer='rmsprop',\n",
        "              loss='categorical_crossentropy',\n",
        "              metrics=['accuracy'])\n",
        "model.fit(partial_x_train,\n",
        "          partial_y_train,\n",
        "          epochs=8,\n",
        "          batch_size=512,\n",
        "          validation_data=(x_val, y_val))\n",
        "results = model.evaluate(x_test, one_hot_test_labels)"
      ],
      "execution_count": 19,
      "outputs": [
        {
          "output_type": "stream",
          "text": [
            "Train on 7982 samples, validate on 1000 samples\n",
            "Epoch 1/8\n",
            "7982/7982 [==============================] - 1s 173us/step - loss: 2.5377 - acc: 0.5233 - val_loss: 1.6804 - val_acc: 0.6540\n",
            "Epoch 2/8\n",
            "7982/7982 [==============================] - 1s 149us/step - loss: 1.3774 - acc: 0.7110 - val_loss: 1.2804 - val_acc: 0.7200\n",
            "Epoch 3/8\n",
            "7982/7982 [==============================] - 1s 148us/step - loss: 1.0200 - acc: 0.7769 - val_loss: 1.1314 - val_acc: 0.7500\n",
            "Epoch 4/8\n",
            "7982/7982 [==============================] - 1s 148us/step - loss: 0.8022 - acc: 0.8246 - val_loss: 1.0561 - val_acc: 0.7520\n",
            "Epoch 5/8\n",
            "7982/7982 [==============================] - 1s 149us/step - loss: 0.6416 - acc: 0.8626 - val_loss: 0.9765 - val_acc: 0.7950\n",
            "Epoch 6/8\n",
            "7982/7982 [==============================] - 1s 148us/step - loss: 0.5134 - acc: 0.8933 - val_loss: 0.9120 - val_acc: 0.8120\n",
            "Epoch 7/8\n",
            "7982/7982 [==============================] - 1s 149us/step - loss: 0.4138 - acc: 0.9154 - val_loss: 0.8950 - val_acc: 0.8240\n",
            "Epoch 8/8\n",
            "7982/7982 [==============================] - 1s 147us/step - loss: 0.3374 - acc: 0.9278 - val_loss: 0.8760 - val_acc: 0.8260\n",
            "2246/2246 [==============================] - 0s 108us/step\n"
          ],
          "name": "stdout"
        }
      ]
    },
    {
      "metadata": {
        "id": "2ZTRk9UhEV6L",
        "colab_type": "code",
        "colab": {
          "base_uri": "https://localhost:8080/",
          "height": 34
        },
        "outputId": "27f1b289-b520-47db-fef8-dbf9f18a005f"
      },
      "cell_type": "code",
      "source": [
        "results"
      ],
      "execution_count": 20,
      "outputs": [
        {
          "output_type": "execute_result",
          "data": {
            "text/plain": [
              "[0.9862981821316645, 0.784060552092609]"
            ]
          },
          "metadata": {
            "tags": []
          },
          "execution_count": 20
        }
      ]
    },
    {
      "metadata": {
        "id": "vLBDqTKiEV6l",
        "colab_type": "text"
      },
      "cell_type": "markdown",
      "source": [
        "\n",
        "Our approach reaches an accuracy of ~78%. With a balanced binary classification problem, the accuracy reached by a purely random classifier \n",
        "would be 50%, but in our case it is closer to 19%, so our results seem pretty good, at least when compared to a random baseline:"
      ]
    },
    {
      "metadata": {
        "id": "rL4siZbQEV6x",
        "colab_type": "code",
        "colab": {
          "base_uri": "https://localhost:8080/",
          "height": 34
        },
        "outputId": "99d4730f-9e9c-4017-80fe-9771a707c959"
      },
      "cell_type": "code",
      "source": [
        "import copy\n",
        "\n",
        "test_labels_copy = copy.copy(test_labels)\n",
        "np.random.shuffle(test_labels_copy)\n",
        "float(np.sum(np.array(test_labels) == np.array(test_labels_copy))) / len(test_labels)"
      ],
      "execution_count": 21,
      "outputs": [
        {
          "output_type": "execute_result",
          "data": {
            "text/plain": [
              "0.19679430097951914"
            ]
          },
          "metadata": {
            "tags": []
          },
          "execution_count": 21
        }
      ]
    },
    {
      "metadata": {
        "id": "8NhcWd4rEV7c",
        "colab_type": "text"
      },
      "cell_type": "markdown",
      "source": [
        "## Generating predictions on new data\n",
        "\n",
        "We can verify that the `predict` method of our model instance returns a probability distribution over all 46 topics. Let's generate topic \n",
        "predictions for all of the test data:"
      ]
    },
    {
      "metadata": {
        "id": "_-Oewit6EV7z",
        "colab_type": "code",
        "colab": {}
      },
      "cell_type": "code",
      "source": [
        "predictions = model.predict(x_test)"
      ],
      "execution_count": 0,
      "outputs": []
    },
    {
      "metadata": {
        "id": "O3a-KFoAEV83",
        "colab_type": "text"
      },
      "cell_type": "markdown",
      "source": [
        "Each entry in `predictions` is a vector of length 46:"
      ]
    },
    {
      "metadata": {
        "id": "IWDe-7gYEV87",
        "colab_type": "code",
        "colab": {
          "base_uri": "https://localhost:8080/",
          "height": 34
        },
        "outputId": "85cf50d8-54c0-4dfb-abb8-34f503110bb6"
      },
      "cell_type": "code",
      "source": [
        "predictions[0].shape"
      ],
      "execution_count": 23,
      "outputs": [
        {
          "output_type": "execute_result",
          "data": {
            "text/plain": [
              "(46,)"
            ]
          },
          "metadata": {
            "tags": []
          },
          "execution_count": 23
        }
      ]
    },
    {
      "metadata": {
        "id": "7_kOl_mcEV9g",
        "colab_type": "text"
      },
      "cell_type": "markdown",
      "source": [
        "The coefficients in this vector sum to 1:"
      ]
    },
    {
      "metadata": {
        "id": "DFIqNRZvEV9j",
        "colab_type": "code",
        "colab": {
          "base_uri": "https://localhost:8080/",
          "height": 34
        },
        "outputId": "cdcce78e-99fc-45db-c491-1795f79e710c"
      },
      "cell_type": "code",
      "source": [
        "np.sum(predictions[0])"
      ],
      "execution_count": 24,
      "outputs": [
        {
          "output_type": "execute_result",
          "data": {
            "text/plain": [
              "1.0000001"
            ]
          },
          "metadata": {
            "tags": []
          },
          "execution_count": 24
        }
      ]
    },
    {
      "metadata": {
        "id": "wm1cKJ9REV98",
        "colab_type": "text"
      },
      "cell_type": "markdown",
      "source": [
        "The largest entry is the predicted class, i.e. the class with the highest probability:"
      ]
    },
    {
      "metadata": {
        "id": "euVbBGvNEV-K",
        "colab_type": "code",
        "colab": {
          "base_uri": "https://localhost:8080/",
          "height": 34
        },
        "outputId": "27b4e292-0355-43fa-c38f-b1dbc34e5707"
      },
      "cell_type": "code",
      "source": [
        "np.argmax(predictions[0])"
      ],
      "execution_count": 25,
      "outputs": [
        {
          "output_type": "execute_result",
          "data": {
            "text/plain": [
              "3"
            ]
          },
          "metadata": {
            "tags": []
          },
          "execution_count": 25
        }
      ]
    },
    {
      "metadata": {
        "id": "hgDM76T-EV-o",
        "colab_type": "text"
      },
      "cell_type": "markdown",
      "source": [
        "## A different way to handle the labels and the loss\n",
        "\n",
        "We mentioned earlier that another way to encode the labels would be to cast them as an integer tensor, like such:"
      ]
    },
    {
      "metadata": {
        "id": "JwDSpE-7EV-r",
        "colab_type": "code",
        "colab": {
          "base_uri": "https://localhost:8080/",
          "height": 34
        },
        "collapsed": true,
        "outputId": "91d1b24a-a94f-4d1a-9d13-a11c4809ed55"
      },
      "cell_type": "code",
      "source": [
        "y_train = np.array(train_labels)\n",
        "y_test = np.array(test_labels)\n",
        "y_train,y_train.shape,y_train.ndim"
      ],
      "execution_count": 26,
      "outputs": [
        {
          "output_type": "execute_result",
          "data": {
            "text/plain": [
              "(array([ 3,  4,  3, ..., 25,  3, 25]), (8982,), 1)"
            ]
          },
          "metadata": {
            "tags": []
          },
          "execution_count": 26
        }
      ]
    },
    {
      "metadata": {
        "id": "rf5WcVyGEV_Q",
        "colab_type": "text"
      },
      "cell_type": "markdown",
      "source": [
        "\n",
        "The only thing it would change is the choice of the loss function. Our previous loss, `categorical_crossentropy`, expects the labels to \n",
        "follow a categorical encoding. With integer labels, we should use `sparse_categorical_crossentropy`:"
      ]
    },
    {
      "metadata": {
        "id": "ko7KMZIlEV_V",
        "colab_type": "code",
        "colab": {}
      },
      "cell_type": "code",
      "source": [
        "model.compile(optimizer='rmsprop', loss='sparse_categorical_crossentropy', metrics=['acc'])"
      ],
      "execution_count": 0,
      "outputs": []
    },
    {
      "metadata": {
        "id": "CsEv2y5NEV_s",
        "colab_type": "text"
      },
      "cell_type": "markdown",
      "source": [
        "This new loss function is still mathematically the same as `categorical_crossentropy`; it just has a different interface."
      ]
    },
    {
      "metadata": {
        "id": "8eL2Kcx-EV_0",
        "colab_type": "text"
      },
      "cell_type": "markdown",
      "source": [
        "## On the importance of having sufficiently large intermediate layers\n",
        "\n",
        "\n",
        "We mentioned earlier that since our final outputs were 46-dimensional, we should avoid intermediate layers with much less than 46 hidden \n",
        "units. Now let's try to see what happens when we introduce an information bottleneck by having intermediate layers significantly less than \n",
        "46-dimensional, e.g. 4-dimensional."
      ]
    },
    {
      "metadata": {
        "id": "m2qd9nkUEV_7",
        "colab_type": "code",
        "colab": {
          "base_uri": "https://localhost:8080/",
          "height": 751
        },
        "outputId": "4f271e59-26c7-4300-887f-7e7bf418347f"
      },
      "cell_type": "code",
      "source": [
        "model = models.Sequential()\n",
        "model.add(layers.Dense(64, activation='relu', input_shape=(10000,)))\n",
        "model.add(layers.Dense(4, activation='relu'))\n",
        "model.add(layers.Dense(46, activation='softmax'))\n",
        "\n",
        "model.compile(optimizer='rmsprop',\n",
        "              loss='categorical_crossentropy',\n",
        "              metrics=['accuracy'])\n",
        "model.fit(partial_x_train,\n",
        "          partial_y_train,\n",
        "          epochs=20,\n",
        "          batch_size=128,\n",
        "          validation_data=(x_val, y_val))"
      ],
      "execution_count": 28,
      "outputs": [
        {
          "output_type": "stream",
          "text": [
            "Train on 7982 samples, validate on 1000 samples\n",
            "Epoch 1/20\n",
            "7982/7982 [==============================] - 1s 183us/step - loss: 2.7061 - acc: 0.4402 - val_loss: 2.0142 - val_acc: 0.5930\n",
            "Epoch 2/20\n",
            "7982/7982 [==============================] - 2s 190us/step - loss: 1.7335 - acc: 0.6185 - val_loss: 1.6567 - val_acc: 0.6110\n",
            "Epoch 3/20\n",
            "7982/7982 [==============================] - 2s 202us/step - loss: 1.4672 - acc: 0.6358 - val_loss: 1.5692 - val_acc: 0.6090\n",
            "Epoch 4/20\n",
            "7982/7982 [==============================] - 2s 195us/step - loss: 1.3265 - acc: 0.6427 - val_loss: 1.4830 - val_acc: 0.6160\n",
            "Epoch 5/20\n",
            "7982/7982 [==============================] - 2s 201us/step - loss: 1.2162 - acc: 0.6496 - val_loss: 1.4554 - val_acc: 0.6220\n",
            "Epoch 6/20\n",
            "7982/7982 [==============================] - 2s 206us/step - loss: 1.1256 - acc: 0.6755 - val_loss: 1.4326 - val_acc: 0.6340\n",
            "Epoch 7/20\n",
            "7982/7982 [==============================] - 2s 198us/step - loss: 1.0509 - acc: 0.6937 - val_loss: 1.4515 - val_acc: 0.6380\n",
            "Epoch 8/20\n",
            " 128/7982 [..............................] - ETA: 1s - loss: 1.0886 - acc: 0.6719"
          ],
          "name": "stdout"
        },
        {
          "output_type": "stream",
          "text": [
            "7982/7982 [==============================] - 2s 199us/step - loss: 0.9910 - acc: 0.7036 - val_loss: 1.4421 - val_acc: 0.6510\n",
            "Epoch 9/20\n",
            "7982/7982 [==============================] - 2s 204us/step - loss: 0.9402 - acc: 0.7179 - val_loss: 1.4839 - val_acc: 0.6500\n",
            "Epoch 10/20\n",
            "7982/7982 [==============================] - 2s 208us/step - loss: 0.8973 - acc: 0.7428 - val_loss: 1.5093 - val_acc: 0.6530\n",
            "Epoch 11/20\n",
            "7982/7982 [==============================] - 2s 201us/step - loss: 0.8584 - acc: 0.7563 - val_loss: 1.5112 - val_acc: 0.6650\n",
            "Epoch 12/20\n",
            "7982/7982 [==============================] - 2s 202us/step - loss: 0.8239 - acc: 0.7618 - val_loss: 1.5252 - val_acc: 0.6650\n",
            "Epoch 13/20\n",
            "7982/7982 [==============================] - 2s 200us/step - loss: 0.7945 - acc: 0.7707 - val_loss: 1.5487 - val_acc: 0.6670\n",
            "Epoch 14/20\n",
            "7982/7982 [==============================] - 2s 203us/step - loss: 0.7680 - acc: 0.7775 - val_loss: 1.5972 - val_acc: 0.6670\n",
            "Epoch 15/20\n",
            "2304/7982 [=======>......................] - ETA: 1s - loss: 0.7446 - acc: 0.7713"
          ],
          "name": "stdout"
        },
        {
          "output_type": "stream",
          "text": [
            "7982/7982 [==============================] - 2s 204us/step - loss: 0.7436 - acc: 0.7863 - val_loss: 1.6376 - val_acc: 0.6720\n",
            "Epoch 16/20\n",
            "7982/7982 [==============================] - 2s 201us/step - loss: 0.7194 - acc: 0.7955 - val_loss: 1.7237 - val_acc: 0.6660\n",
            "Epoch 17/20\n",
            "7982/7982 [==============================] - 2s 203us/step - loss: 0.7010 - acc: 0.8029 - val_loss: 1.7239 - val_acc: 0.6730\n",
            "Epoch 18/20\n",
            "7982/7982 [==============================] - 2s 209us/step - loss: 0.6810 - acc: 0.8078 - val_loss: 1.7835 - val_acc: 0.6720\n",
            "Epoch 19/20\n",
            "7982/7982 [==============================] - 2s 211us/step - loss: 0.6647 - acc: 0.8108 - val_loss: 1.7769 - val_acc: 0.6810\n",
            "Epoch 20/20\n",
            "7982/7982 [==============================] - 2s 206us/step - loss: 0.6479 - acc: 0.8165 - val_loss: 1.8367 - val_acc: 0.6760\n"
          ],
          "name": "stdout"
        },
        {
          "output_type": "execute_result",
          "data": {
            "text/plain": [
              "<keras.callbacks.History at 0x7fdb80e439b0>"
            ]
          },
          "metadata": {
            "tags": []
          },
          "execution_count": 28
        }
      ]
    },
    {
      "metadata": {
        "id": "qM3WI9P_EWAg",
        "colab_type": "text"
      },
      "cell_type": "markdown",
      "source": [
        "\n",
        "Our network now seems to peak at ~71% test accuracy, a 8% absolute drop. This drop is mostly due to the fact that we are now trying to \n",
        "compress a lot of information (enough information to recover the separation hyperplanes of 46 classes) into an intermediate space that is \n",
        "too low-dimensional. The network is able to cram _most_ of the necessary information into these 8-dimensional representations, but not all \n",
        "of it."
      ]
    },
    {
      "metadata": {
        "id": "ATpb_WHfEWAn",
        "colab_type": "text"
      },
      "cell_type": "markdown",
      "source": [
        "## Further experiments\n",
        "\n",
        "* Try using larger or smaller layers: 32 units, 128 units...\n",
        "* We were using two hidden layers. Now try to use a single hidden layer, or three hidden layers."
      ]
    },
    {
      "metadata": {
        "id": "tYR-aCvMEWAq",
        "colab_type": "text"
      },
      "cell_type": "markdown",
      "source": [
        "## Wrapping up\n",
        "\n",
        "\n",
        "Here's what you should take away from this example:\n",
        "\n",
        "* If you are trying to classify data points between N classes, your network should end with a `Dense` layer of size N.\n",
        "* In a single-label, multi-class classification problem, your network should end with a `softmax` activation, so that it will output a \n",
        "probability distribution over the N output classes.\n",
        "* _Categorical crossentropy_ is almost always the loss function you should use for such problems. It minimizes the distance between the \n",
        "probability distributions output by the network, and the true distribution of the targets.\n",
        "* There are two ways to handle labels in multi-class classification:\n",
        "    ** Encoding the labels via \"categorical encoding\" (also known as \"one-hot encoding\") and using `categorical_crossentropy` as your loss \n",
        "function.\n",
        "    ** Encoding the labels as integers and using the `sparse_categorical_crossentropy` loss function.\n",
        "* If you need to classify data into a large number of categories, then you should avoid creating information bottlenecks in your network by having \n",
        "intermediate layers that are too small."
      ]
    }
  ]
}