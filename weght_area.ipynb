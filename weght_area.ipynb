{
  "nbformat": 4,
  "nbformat_minor": 0,
  "metadata": {
    "colab": {
      "name": "weght_area.ipynb",
      "version": "0.3.2",
      "provenance": [],
      "collapsed_sections": []
    },
    "kernelspec": {
      "display_name": "Python 3",
      "language": "python",
      "name": "python3"
    }
  },
  "cells": [
    {
      "cell_type": "markdown",
      "metadata": {
        "id": "view-in-github",
        "colab_type": "text"
      },
      "source": [
        "[View in Colaboratory](https://colab.research.google.com/github/alzayats/Google_Colab/blob/master/weght_area.ipynb)"
      ]
    },
    {
      "metadata": {
        "id": "uAVYNyihLEQq",
        "colab_type": "code",
        "colab": {
          "base_uri": "https://localhost:8080/",
          "height": 51
        },
        "outputId": "1c6ab1ff-a500-45d4-ed63-ce3f42e0d55a"
      },
      "cell_type": "code",
      "source": [
        "import keras\n",
        "keras.__version__"
      ],
      "execution_count": 1,
      "outputs": [
        {
          "output_type": "stream",
          "text": [
            "Using TensorFlow backend.\n"
          ],
          "name": "stderr"
        },
        {
          "output_type": "execute_result",
          "data": {
            "text/plain": [
              "'2.1.6'"
            ]
          },
          "metadata": {
            "tags": []
          },
          "execution_count": 1
        }
      ]
    },
    {
      "metadata": {
        "id": "TExFiDrHLERK",
        "colab_type": "text"
      },
      "cell_type": "markdown",
      "source": [
        "# Predicting house prices: a regression example\n",
        "\n",
        "This notebook contains the code samples found in Chapter 3, Section 6 of [Deep Learning with Python](https://www.manning.com/books/deep-learning-with-python?a_aid=keras&a_bid=76564dff). Note that the original text features far more content, in particular further explanations and figures: in this notebook, you will only find source code and related comments.\n",
        "\n",
        "----\n",
        "\n",
        "\n",
        "In our two previous examples, we were considering classification problems, where the goal was to predict a single discrete label of an \n",
        "input data point. Another common type of machine learning problem is \"regression\", which consists of predicting a continuous value instead \n",
        "of a discrete label. For instance, predicting the temperature tomorrow, given meteorological data, or predicting the time that a \n",
        "software project will take to complete, given its specifications.\n",
        "\n",
        "Do not mix up \"regression\" with the algorithm \"logistic regression\": confusingly, \"logistic regression\" is not a regression algorithm, \n",
        "it is a classification algorithm."
      ]
    },
    {
      "metadata": {
        "id": "MEZ7AIlbLERW",
        "colab_type": "text"
      },
      "cell_type": "markdown",
      "source": [
        "## The Boston Housing Price dataset\n",
        "\n",
        "\n",
        "We will be attempting to predict the median price of homes in a given Boston suburb in the mid-1970s, given a few data points about the \n",
        "suburb at the time, such as the crime rate, the local property tax rate, etc.\n",
        "\n",
        "The dataset we will be using has another interesting difference from our two previous examples: it has very few data points, only 506 in \n",
        "total, split between 404 training samples and 102 test samples, and each \"feature\" in the input data (e.g. the crime rate is a feature) has \n",
        "a different scale. For instance some values are proportions, which take a values between 0 and 1, others take values between 1 and 12, \n",
        "others between 0 and 100...\n",
        "\n",
        "Let's take a look at the data:"
      ]
    },
    {
      "metadata": {
        "id": "Y_OVWin7LERa",
        "colab_type": "code",
        "colab": {}
      },
      "cell_type": "code",
      "source": [
        "# from keras.datasets import boston_housing\n",
        "\n",
        "# (train_data, train_targets), (test_data, test_targets) =  boston_housing.load_data()"
      ],
      "execution_count": 0,
      "outputs": []
    },
    {
      "metadata": {
        "id": "JDGSELnaLERx",
        "colab_type": "code",
        "colab": {}
      },
      "cell_type": "code",
      "source": [
        "# train_data[1],train_data.shape"
      ],
      "execution_count": 0,
      "outputs": []
    },
    {
      "metadata": {
        "id": "7mdMBoLGLESG",
        "colab_type": "code",
        "colab": {}
      },
      "cell_type": "code",
      "source": [
        "# import numpy\n",
        "# a = numpy.asarray(train_data)\n",
        "# numpy.savetxt(\"train_data.csv\", a, delimiter=\",\")\n",
        "# import numpy\n",
        "# a = numpy.asarray(train_targets)\n",
        "# numpy.savetxt(\"train_targets.csv\", a, delimiter=\",\")"
      ],
      "execution_count": 0,
      "outputs": []
    },
    {
      "metadata": {
        "id": "a8YNW778LESl",
        "colab_type": "code",
        "colab": {}
      },
      "cell_type": "code",
      "source": [
        "# import pandas as pd \n",
        "# df = pd.DataFrame(train_data)\n",
        "# df.to_csv(\"file_path.csv\")"
      ],
      "execution_count": 0,
      "outputs": []
    },
    {
      "metadata": {
        "id": "-IqRW273NTZo",
        "colab_type": "code",
        "colab": {
          "resources": {
            "http://localhost:8080/nbextensions/google.colab/files.js": {
              "data": "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",
              "ok": true,
              "headers": [
                [
                  "content-type",
                  "application/javascript"
                ]
              ],
              "status": 200,
              "status_text": ""
            }
          },
          "base_uri": "https://localhost:8080/",
          "height": 140
        },
        "outputId": "e46e7404-2675-4853-adcd-fe60eb86b4e8"
      },
      "cell_type": "code",
      "source": [
        "from google.colab import files\n",
        "\n",
        "uploaded = files.upload()\n",
        "\n",
        "for fn in uploaded.keys():\n",
        "  print('User uploaded file \"{name}\" with length {length} bytes'.format(\n",
        "      name=fn, length=len(uploaded[fn])))"
      ],
      "execution_count": 8,
      "outputs": [
        {
          "output_type": "display_data",
          "data": {
            "text/html": [
              "\n",
              "     <input type=\"file\" id=\"files-b12a71bf-fac8-4075-9601-8d5540307ee0\" name=\"files[]\" multiple disabled />\n",
              "     <output id=\"result-b12a71bf-fac8-4075-9601-8d5540307ee0\">\n",
              "      Upload widget is only available when the cell has been executed in the\n",
              "      current browser session. Please rerun this cell to enable.\n",
              "      </output>\n",
              "      <script src=\"/nbextensions/google.colab/files.js\"></script> "
            ],
            "text/plain": [
              "<IPython.core.display.HTML object>"
            ]
          },
          "metadata": {
            "tags": []
          }
        },
        {
          "output_type": "stream",
          "text": [
            "Saving data.csv to data.csv\n",
            "Saving test.csv to test.csv\n",
            "User uploaded file \"data.csv\" with length 1298 bytes\n",
            "User uploaded file \"test.csv\" with length 1313 bytes\n"
          ],
          "name": "stdout"
        }
      ]
    },
    {
      "metadata": {
        "id": "nluKpuKnLES-",
        "colab_type": "code",
        "colab": {
          "base_uri": "https://localhost:8080/",
          "height": 2023
        },
        "outputId": "41e54ff4-c298-4b43-99f8-1b105e818a80"
      },
      "cell_type": "code",
      "source": [
        "from numpy import genfromtxt\n",
        "my_data = genfromtxt('data.csv', delimiter=',')\n",
        "my_data,my_data.shape,my_data.ndim"
      ],
      "execution_count": 9,
      "outputs": [
        {
          "output_type": "execute_result",
          "data": {
            "text/plain": [
              "(array([[27229.,   605.],\n",
              "        [27819.,   822.],\n",
              "        [17134.,   393.],\n",
              "        [19006.,   438.],\n",
              "        [18785.,   440.],\n",
              "        [26489.,   732.],\n",
              "        [22363.,   433.],\n",
              "        [12276.,   224.],\n",
              "        [20001.,   438.],\n",
              "        [15954.,   323.],\n",
              "        [17699.,   363.],\n",
              "        [25216.,   630.],\n",
              "        [23345.,   607.],\n",
              "        [19915.,   457.],\n",
              "        [22576.,   557.],\n",
              "        [20099.,   432.],\n",
              "        [32388.,   952.],\n",
              "        [16043.,   326.],\n",
              "        [23828.,   607.],\n",
              "        [17341.,   375.],\n",
              "        [25323.,   675.],\n",
              "        [21398.,   505.],\n",
              "        [19724.,   426.],\n",
              "        [18697.,   441.],\n",
              "        [17804.,   390.],\n",
              "        [18994.,   432.],\n",
              "        [22101.,   530.],\n",
              "        [25030.,   638.],\n",
              "        [13379.,   252.],\n",
              "        [21300.,   521.],\n",
              "        [17494.,   397.],\n",
              "        [20371.,   488.],\n",
              "        [22086.,   420.],\n",
              "        [20460.,   410.],\n",
              "        [24848.,   649.],\n",
              "        [20315.,   470.],\n",
              "        [16209.,   322.],\n",
              "        [25859.,   670.],\n",
              "        [25416.,   670.],\n",
              "        [20178.,   489.],\n",
              "        [16221.,   348.],\n",
              "        [19915.,   456.],\n",
              "        [18756.,   415.],\n",
              "        [17329.,   408.],\n",
              "        [17998.,   408.],\n",
              "        [18834.,   440.],\n",
              "        [21304.,   483.],\n",
              "        [20702.,   499.],\n",
              "        [17965.,   429.],\n",
              "        [29198.,   816.],\n",
              "        [22963.,   567.],\n",
              "        [20196.,   473.],\n",
              "        [19442.,   500.],\n",
              "        [14077.,   302.],\n",
              "        [20412.,   525.],\n",
              "        [19672.,   466.],\n",
              "        [25426.,   681.],\n",
              "        [16791.,   379.],\n",
              "        [16738.,   350.],\n",
              "        [20067.,   484.],\n",
              "        [18216.,   404.],\n",
              "        [18375.,   421.],\n",
              "        [19822.,   473.],\n",
              "        [22101.,   504.],\n",
              "        [27574.,   729.],\n",
              "        [23082.,   590.],\n",
              "        [16945.,   434.],\n",
              "        [19554.,   418.],\n",
              "        [18824.,   416.],\n",
              "        [22079.,   560.],\n",
              "        [20591.,   515.],\n",
              "        [19222.,   459.],\n",
              "        [32409.,   926.],\n",
              "        [31269.,   926.],\n",
              "        [21408.,   525.],\n",
              "        [22424.,   458.],\n",
              "        [19146.,   415.],\n",
              "        [16071.,   338.],\n",
              "        [24985.,   646.],\n",
              "        [23355.,   586.],\n",
              "        [18896.,   425.],\n",
              "        [20001.,   477.],\n",
              "        [21098.,   521.],\n",
              "        [24283.,   644.],\n",
              "        [25173.,   704.],\n",
              "        [15932.,   344.],\n",
              "        [18884.,   443.],\n",
              "        [19847.,   520.],\n",
              "        [24313.,   611.],\n",
              "        [22133.,   549.],\n",
              "        [17576.,   364.],\n",
              "        [21645.,   516.],\n",
              "        [19786.,   479.],\n",
              "        [18208.,   440.],\n",
              "        [19134.,   437.],\n",
              "        [22324.,   529.],\n",
              "        [20794.,   512.],\n",
              "        [20622.,   404.],\n",
              "        [18399.,   466.],\n",
              "        [16460.,   368.],\n",
              "        [17012.,   368.],\n",
              "        [21084.,   534.],\n",
              "        [17057.,   378.],\n",
              "        [13341.,   252.],\n",
              "        [15255.,   304.],\n",
              "        [17158.,   387.],\n",
              "        [27032.,   729.],\n",
              "        [20413.,   544.],\n",
              "        [22762.,   590.],\n",
              "        [18801.,   419.],\n",
              "        [18727.,   457.],\n",
              "        [16618.,   372.],\n",
              "        [25390.,   721.],\n",
              "        [15120.,   339.],\n",
              "        [16484.,   366.],\n",
              "        [15757.,   349.],\n",
              "        [23008.,   585.],\n",
              "        [18688.,   441.]]), (118, 2), 2)"
            ]
          },
          "metadata": {
            "tags": []
          },
          "execution_count": 9
        }
      ]
    },
    {
      "metadata": {
        "id": "Q7OQQjBxLETn",
        "colab_type": "code",
        "colab": {
          "base_uri": "https://localhost:8080/",
          "height": 2023
        },
        "outputId": "def9b09e-e10e-42f2-bedb-5c41a981eb96"
      },
      "cell_type": "code",
      "source": [
        "from numpy import genfromtxt\n",
        "my_test = genfromtxt('test.csv', delimiter=',')\n",
        "my_test,my_test.shape,my_test.ndim"
      ],
      "execution_count": 10,
      "outputs": [
        {
          "output_type": "execute_result",
          "data": {
            "text/plain": [
              "(array([[108207.,    605.],\n",
              "        [110718.,    822.],\n",
              "        [ 68031.,    393.],\n",
              "        [ 75307.,    438.],\n",
              "        [ 74380.,    440.],\n",
              "        [105489.,    732.],\n",
              "        [ 88519.,    433.],\n",
              "        [ 48596.,    224.],\n",
              "        [ 79078.,    438.],\n",
              "        [ 63218.,    323.],\n",
              "        [ 70020.,    363.],\n",
              "        [100147.,    630.],\n",
              "        [ 92826.,    607.],\n",
              "        [ 79155.,    457.],\n",
              "        [ 89785.,    557.],\n",
              "        [ 79670.,    432.],\n",
              "        [128517.,    952.],\n",
              "        [ 63691.,    326.],\n",
              "        [ 94808.,    607.],\n",
              "        [ 68933.,    375.],\n",
              "        [100390.,    675.],\n",
              "        [ 84945.,    505.],\n",
              "        [ 78150.,    426.],\n",
              "        [ 74029.,    441.],\n",
              "        [ 70420.,    390.],\n",
              "        [ 75230.,    432.],\n",
              "        [ 87808.,    530.],\n",
              "        [ 99305.,    638.],\n",
              "        [ 52891.,    252.],\n",
              "        [ 84312.,    521.],\n",
              "        [ 69130.,    397.],\n",
              "        [ 80655.,    488.],\n",
              "        [ 86411.,    420.],\n",
              "        [ 81257.,    410.],\n",
              "        [ 98604.,    649.],\n",
              "        [ 80375.,    470.],\n",
              "        [ 64311.,    322.],\n",
              "        [102604.,    670.],\n",
              "        [101161.,    670.],\n",
              "        [ 79946.,    489.],\n",
              "        [ 64308.,    348.],\n",
              "        [ 78938.,    456.],\n",
              "        [ 74408.,    415.],\n",
              "        [ 68612.,    408.],\n",
              "        [ 71512.,    408.],\n",
              "        [ 74528.,    440.],\n",
              "        [ 84443.,    483.],\n",
              "        [ 82379.,    499.],\n",
              "        [ 71182.,    429.],\n",
              "        [115724.,    816.],\n",
              "        [ 91023.,    567.],\n",
              "        [ 80073.,    473.],\n",
              "        [ 77183.,    500.],\n",
              "        [ 55781.,    302.],\n",
              "        [ 80921.,    525.],\n",
              "        [ 78009.,    466.],\n",
              "        [100887.,    681.],\n",
              "        [ 66698.,    379.],\n",
              "        [ 66330.,    350.],\n",
              "        [ 79281.,    484.],\n",
              "        [ 72293.,    404.],\n",
              "        [ 72803.,    421.],\n",
              "        [ 78673.,    473.],\n",
              "        [ 87753.,    504.],\n",
              "        [109379.,    729.],\n",
              "        [ 91515.,    590.],\n",
              "        [ 67033.,    434.],\n",
              "        [ 77482.,    418.],\n",
              "        [ 74748.,    416.],\n",
              "        [ 87671.,    560.],\n",
              "        [ 81778.,    515.],\n",
              "        [ 76268.,    459.],\n",
              "        [128750.,    926.],\n",
              "        [124332.,    926.],\n",
              "        [ 84829.,    525.],\n",
              "        [ 88929.,    458.],\n",
              "        [ 76146.,    415.],\n",
              "        [ 63922.,    338.],\n",
              "        [ 99208.,    646.],\n",
              "        [ 92921.,    586.],\n",
              "        [ 74753.,    425.],\n",
              "        [ 79316.,    477.],\n",
              "        [ 83596.,    521.],\n",
              "        [ 96147.,    644.],\n",
              "        [ 99950.,    704.],\n",
              "        [ 63112.,    344.],\n",
              "        [ 75129.,    443.],\n",
              "        [ 78614.,    520.],\n",
              "        [ 95880.,    611.],\n",
              "        [ 87771.,    549.],\n",
              "        [ 69598.,    364.],\n",
              "        [ 85774.,    516.],\n",
              "        [ 78554.,    479.],\n",
              "        [ 72208.,    440.],\n",
              "        [ 75914.,    437.],\n",
              "        [ 88674.,    529.],\n",
              "        [ 82265.,    512.],\n",
              "        [ 81957.,    404.],\n",
              "        [ 72906.,    466.],\n",
              "        [ 65300.,    368.],\n",
              "        [ 67504.,    368.],\n",
              "        [ 83748.,    534.],\n",
              "        [ 67605.,    378.],\n",
              "        [ 52909.,    252.],\n",
              "        [ 60480.,    304.],\n",
              "        [ 68117.,    387.],\n",
              "        [107399.,    729.],\n",
              "        [ 80901.,    544.],\n",
              "        [ 90426.,    590.],\n",
              "        [ 74602.,    419.],\n",
              "        [ 74289.,    457.],\n",
              "        [ 65850.,    372.],\n",
              "        [100732.,    721.],\n",
              "        [ 59944.,    339.],\n",
              "        [ 65461.,    366.],\n",
              "        [ 62655.,    349.],\n",
              "        [ 91170.,    585.],\n",
              "        [ 74436.,    441.]]), (118, 2), 2)"
            ]
          },
          "metadata": {
            "tags": []
          },
          "execution_count": 10
        }
      ]
    },
    {
      "metadata": {
        "id": "6TH6ImdNLEUS",
        "colab_type": "code",
        "colab": {
          "base_uri": "https://localhost:8080/",
          "height": 306
        },
        "outputId": "e99a2ab3-642e-4f17-cc52-1edd3ca8714f"
      },
      "cell_type": "code",
      "source": [
        "test_data=my_test[:,0]\n",
        "test_data,test_data.shape,test_data.ndim"
      ],
      "execution_count": 11,
      "outputs": [
        {
          "output_type": "execute_result",
          "data": {
            "text/plain": [
              "(array([108207., 110718.,  68031.,  75307.,  74380., 105489.,  88519.,\n",
              "         48596.,  79078.,  63218.,  70020., 100147.,  92826.,  79155.,\n",
              "         89785.,  79670., 128517.,  63691.,  94808.,  68933., 100390.,\n",
              "         84945.,  78150.,  74029.,  70420.,  75230.,  87808.,  99305.,\n",
              "         52891.,  84312.,  69130.,  80655.,  86411.,  81257.,  98604.,\n",
              "         80375.,  64311., 102604., 101161.,  79946.,  64308.,  78938.,\n",
              "         74408.,  68612.,  71512.,  74528.,  84443.,  82379.,  71182.,\n",
              "        115724.,  91023.,  80073.,  77183.,  55781.,  80921.,  78009.,\n",
              "        100887.,  66698.,  66330.,  79281.,  72293.,  72803.,  78673.,\n",
              "         87753., 109379.,  91515.,  67033.,  77482.,  74748.,  87671.,\n",
              "         81778.,  76268., 128750., 124332.,  84829.,  88929.,  76146.,\n",
              "         63922.,  99208.,  92921.,  74753.,  79316.,  83596.,  96147.,\n",
              "         99950.,  63112.,  75129.,  78614.,  95880.,  87771.,  69598.,\n",
              "         85774.,  78554.,  72208.,  75914.,  88674.,  82265.,  81957.,\n",
              "         72906.,  65300.,  67504.,  83748.,  67605.,  52909.,  60480.,\n",
              "         68117., 107399.,  80901.,  90426.,  74602.,  74289.,  65850.,\n",
              "        100732.,  59944.,  65461.,  62655.,  91170.,  74436.]), (118,), 1)"
            ]
          },
          "metadata": {
            "tags": []
          },
          "execution_count": 11
        }
      ]
    },
    {
      "metadata": {
        "id": "IsuZr7xqLEUv",
        "colab_type": "code",
        "colab": {
          "base_uri": "https://localhost:8080/",
          "height": 204
        },
        "outputId": "47025c29-8d53-4097-b269-01b27487a3f2"
      },
      "cell_type": "code",
      "source": [
        "test_targets=my_test[:,1]\n",
        "test_targets,test_targets.shape,test_targets.ndim"
      ],
      "execution_count": 12,
      "outputs": [
        {
          "output_type": "execute_result",
          "data": {
            "text/plain": [
              "(array([605., 822., 393., 438., 440., 732., 433., 224., 438., 323., 363.,\n",
              "        630., 607., 457., 557., 432., 952., 326., 607., 375., 675., 505.,\n",
              "        426., 441., 390., 432., 530., 638., 252., 521., 397., 488., 420.,\n",
              "        410., 649., 470., 322., 670., 670., 489., 348., 456., 415., 408.,\n",
              "        408., 440., 483., 499., 429., 816., 567., 473., 500., 302., 525.,\n",
              "        466., 681., 379., 350., 484., 404., 421., 473., 504., 729., 590.,\n",
              "        434., 418., 416., 560., 515., 459., 926., 926., 525., 458., 415.,\n",
              "        338., 646., 586., 425., 477., 521., 644., 704., 344., 443., 520.,\n",
              "        611., 549., 364., 516., 479., 440., 437., 529., 512., 404., 466.,\n",
              "        368., 368., 534., 378., 252., 304., 387., 729., 544., 590., 419.,\n",
              "        457., 372., 721., 339., 366., 349., 585., 441.]), (118,), 1)"
            ]
          },
          "metadata": {
            "tags": []
          },
          "execution_count": 12
        }
      ]
    },
    {
      "metadata": {
        "id": "qumEUwciLEVF",
        "colab_type": "code",
        "colab": {
          "base_uri": "https://localhost:8080/",
          "height": 272
        },
        "outputId": "4a673876-7c5d-436d-fe8d-42575afc3fce"
      },
      "cell_type": "code",
      "source": [
        "train_data=my_data[:,0]\n",
        "train_data,train_data.shape,train_data.ndim"
      ],
      "execution_count": 13,
      "outputs": [
        {
          "output_type": "execute_result",
          "data": {
            "text/plain": [
              "(array([27229., 27819., 17134., 19006., 18785., 26489., 22363., 12276.,\n",
              "        20001., 15954., 17699., 25216., 23345., 19915., 22576., 20099.,\n",
              "        32388., 16043., 23828., 17341., 25323., 21398., 19724., 18697.,\n",
              "        17804., 18994., 22101., 25030., 13379., 21300., 17494., 20371.,\n",
              "        22086., 20460., 24848., 20315., 16209., 25859., 25416., 20178.,\n",
              "        16221., 19915., 18756., 17329., 17998., 18834., 21304., 20702.,\n",
              "        17965., 29198., 22963., 20196., 19442., 14077., 20412., 19672.,\n",
              "        25426., 16791., 16738., 20067., 18216., 18375., 19822., 22101.,\n",
              "        27574., 23082., 16945., 19554., 18824., 22079., 20591., 19222.,\n",
              "        32409., 31269., 21408., 22424., 19146., 16071., 24985., 23355.,\n",
              "        18896., 20001., 21098., 24283., 25173., 15932., 18884., 19847.,\n",
              "        24313., 22133., 17576., 21645., 19786., 18208., 19134., 22324.,\n",
              "        20794., 20622., 18399., 16460., 17012., 21084., 17057., 13341.,\n",
              "        15255., 17158., 27032., 20413., 22762., 18801., 18727., 16618.,\n",
              "        25390., 15120., 16484., 15757., 23008., 18688.]), (118,), 1)"
            ]
          },
          "metadata": {
            "tags": []
          },
          "execution_count": 13
        }
      ]
    },
    {
      "metadata": {
        "id": "DTelCmAYLEVj",
        "colab_type": "code",
        "colab": {
          "base_uri": "https://localhost:8080/",
          "height": 204
        },
        "outputId": "8f992ce0-231b-4092-beb8-f1c5afe768a1"
      },
      "cell_type": "code",
      "source": [
        "train_targets=my_data[:,1]\n",
        "train_targets,train_targets.shape,train_targets.ndim"
      ],
      "execution_count": 14,
      "outputs": [
        {
          "output_type": "execute_result",
          "data": {
            "text/plain": [
              "(array([605., 822., 393., 438., 440., 732., 433., 224., 438., 323., 363.,\n",
              "        630., 607., 457., 557., 432., 952., 326., 607., 375., 675., 505.,\n",
              "        426., 441., 390., 432., 530., 638., 252., 521., 397., 488., 420.,\n",
              "        410., 649., 470., 322., 670., 670., 489., 348., 456., 415., 408.,\n",
              "        408., 440., 483., 499., 429., 816., 567., 473., 500., 302., 525.,\n",
              "        466., 681., 379., 350., 484., 404., 421., 473., 504., 729., 590.,\n",
              "        434., 418., 416., 560., 515., 459., 926., 926., 525., 458., 415.,\n",
              "        338., 646., 586., 425., 477., 521., 644., 704., 344., 443., 520.,\n",
              "        611., 549., 364., 516., 479., 440., 437., 529., 512., 404., 466.,\n",
              "        368., 368., 534., 378., 252., 304., 387., 729., 544., 590., 419.,\n",
              "        457., 372., 721., 339., 366., 349., 585., 441.]), (118,), 1)"
            ]
          },
          "metadata": {
            "tags": []
          },
          "execution_count": 14
        }
      ]
    },
    {
      "metadata": {
        "id": "bVVIRk3zLEV-",
        "colab_type": "code",
        "colab": {}
      },
      "cell_type": "code",
      "source": [
        "# numpy.savez('test_targets')\n",
        "# test_data.shape"
      ],
      "execution_count": 0,
      "outputs": []
    },
    {
      "metadata": {
        "id": "8JV5z08JLEWf",
        "colab_type": "text"
      },
      "cell_type": "markdown",
      "source": [
        "\n",
        "As you can see, we have 404 training samples and 102 test samples. The data comprises 13 features. The 13 features in the input data are as \n",
        "follow:\n",
        "\n",
        "1. Per capita crime rate.\n",
        "2. Proportion of residential land zoned for lots over 25,000 square feet.\n",
        "3. Proportion of non-retail business acres per town.\n",
        "4. Charles River dummy variable (= 1 if tract bounds river; 0 otherwise).\n",
        "5. Nitric oxides concentration (parts per 10 million).\n",
        "6. Average number of rooms per dwelling.\n",
        "7. Proportion of owner-occupied units built prior to 1940.\n",
        "8. Weighted distances to five Boston employment centres.\n",
        "9. Index of accessibility to radial highways.\n",
        "10. Full-value property-tax rate per $10,000.\n",
        "11. Pupil-teacher ratio by town.\n",
        "12. 1000 * (Bk - 0.63) ** 2 where Bk is the proportion of Black people by town.\n",
        "13. % lower status of the population.\n",
        "\n",
        "The targets are the median values of owner-occupied homes, in thousands of dollars:"
      ]
    },
    {
      "metadata": {
        "id": "F9WWDb8NLEWr",
        "colab_type": "code",
        "colab": {}
      },
      "cell_type": "code",
      "source": [
        "# train_targets"
      ],
      "execution_count": 0,
      "outputs": []
    },
    {
      "metadata": {
        "id": "JeXy1WbpLEXK",
        "colab_type": "text"
      },
      "cell_type": "markdown",
      "source": [
        "\n",
        "The prices are typically between \\$10,000 and \\$50,000. If that sounds cheap, remember this was the mid-1970s, and these prices are not \n",
        "inflation-adjusted."
      ]
    },
    {
      "metadata": {
        "id": "KTMGrhbcLEXS",
        "colab_type": "text"
      },
      "cell_type": "markdown",
      "source": [
        "## Preparing the data\n",
        "\n",
        "\n",
        "It would be problematic to feed into a neural network values that all take wildly different ranges. The network might be able to \n",
        "automatically adapt to such heterogeneous data, but it would definitely make learning more difficult. A widespread best practice to deal \n",
        "with such data is to do feature-wise normalization: for each feature in the input data (a column in the input data matrix), we \n",
        "will subtract the mean of the feature and divide by the standard deviation, so that the feature will be centered around 0 and will have a \n",
        "unit standard deviation. This is easily done in Numpy:"
      ]
    },
    {
      "metadata": {
        "id": "f0o6VY3hLEXX",
        "colab_type": "code",
        "colab": {}
      },
      "cell_type": "code",
      "source": [
        "# mean = train_data.mean(axis=0)\n",
        "# train_data -= mean\n",
        "# std = train_data.std(axis=0)\n",
        "# train_data /= std\n",
        "\n",
        "# test_data -= mean\n",
        "# test_data /= std"
      ],
      "execution_count": 0,
      "outputs": []
    },
    {
      "metadata": {
        "id": "eF0F63dpLEXs",
        "colab_type": "code",
        "colab": {
          "base_uri": "https://localhost:8080/",
          "height": 272
        },
        "outputId": "9fee396e-bbb1-4d8f-cb94-ac3ed3d4dceb"
      },
      "cell_type": "code",
      "source": [
        "train_data,train_data.shape,train_data.ndim"
      ],
      "execution_count": 18,
      "outputs": [
        {
          "output_type": "execute_result",
          "data": {
            "text/plain": [
              "(array([27229., 27819., 17134., 19006., 18785., 26489., 22363., 12276.,\n",
              "        20001., 15954., 17699., 25216., 23345., 19915., 22576., 20099.,\n",
              "        32388., 16043., 23828., 17341., 25323., 21398., 19724., 18697.,\n",
              "        17804., 18994., 22101., 25030., 13379., 21300., 17494., 20371.,\n",
              "        22086., 20460., 24848., 20315., 16209., 25859., 25416., 20178.,\n",
              "        16221., 19915., 18756., 17329., 17998., 18834., 21304., 20702.,\n",
              "        17965., 29198., 22963., 20196., 19442., 14077., 20412., 19672.,\n",
              "        25426., 16791., 16738., 20067., 18216., 18375., 19822., 22101.,\n",
              "        27574., 23082., 16945., 19554., 18824., 22079., 20591., 19222.,\n",
              "        32409., 31269., 21408., 22424., 19146., 16071., 24985., 23355.,\n",
              "        18896., 20001., 21098., 24283., 25173., 15932., 18884., 19847.,\n",
              "        24313., 22133., 17576., 21645., 19786., 18208., 19134., 22324.,\n",
              "        20794., 20622., 18399., 16460., 17012., 21084., 17057., 13341.,\n",
              "        15255., 17158., 27032., 20413., 22762., 18801., 18727., 16618.,\n",
              "        25390., 15120., 16484., 15757., 23008., 18688.]), (118,), 1)"
            ]
          },
          "metadata": {
            "tags": []
          },
          "execution_count": 18
        }
      ]
    },
    {
      "metadata": {
        "id": "T_f0lN61LEYL",
        "colab_type": "text"
      },
      "cell_type": "markdown",
      "source": [
        "\n",
        "Note that the quantities that we use for normalizing the test data have been computed using the training data. We should never use in our \n",
        "workflow any quantity computed on the test data, even for something as simple as data normalization."
      ]
    },
    {
      "metadata": {
        "id": "EJ5Iq_CALEYP",
        "colab_type": "text"
      },
      "cell_type": "markdown",
      "source": [
        "## Building our network\n",
        "\n",
        "\n",
        "Because so few samples are available, we will be using a very small network with two \n",
        "hidden layers, each with 64 units. In general, the less training data you have, the worse overfitting will be, and using \n",
        "a small network is one way to mitigate overfitting."
      ]
    },
    {
      "metadata": {
        "id": "q30NAHl8LEYT",
        "colab_type": "code",
        "colab": {}
      },
      "cell_type": "code",
      "source": [
        "from keras import models\n",
        "from keras import layers\n",
        "\n",
        "def build_model():\n",
        "    # Because we will need to instantiate\n",
        "    # the same model multiple times,\n",
        "    # we use a function to construct it.\n",
        "    model = models.Sequential()\n",
        "    model.add(layers.Dense(64, activation='relu',\n",
        "                           input_shape=(1,)))\n",
        "    model.add(layers.Dense(64, activation='relu'))\n",
        "    model.add(layers.Dense(1))\n",
        "    model.compile(optimizer='rmsprop', loss='mse', metrics=['mae'])\n",
        "    return model"
      ],
      "execution_count": 0,
      "outputs": []
    },
    {
      "metadata": {
        "id": "jDtbw8umLEYn",
        "colab_type": "text"
      },
      "cell_type": "markdown",
      "source": [
        "\n",
        "Our network ends with a single unit, and no activation (i.e. it will be linear layer). \n",
        "This is a typical setup for scalar regression (i.e. regression where we are trying to predict a single continuous value). \n",
        "Applying an activation function would constrain the range that the output can take; for instance if \n",
        "we applied a `sigmoid` activation function to our last layer, the network could only learn to predict values between 0 and 1. Here, because \n",
        "the last layer is purely linear, the network is free to learn to predict values in any range.\n",
        "\n",
        "Note that we are compiling the network with the `mse` loss function -- Mean Squared Error, the square of the difference between the \n",
        "predictions and the targets, a widely used loss function for regression problems.\n",
        "\n",
        "We are also monitoring a new metric during training: `mae`. This stands for Mean Absolute Error. It is simply the absolute value of the \n",
        "difference between the predictions and the targets. For instance, a MAE of 0.5 on this problem would mean that our predictions are off by \n",
        "\\$500 on average."
      ]
    },
    {
      "metadata": {
        "id": "d8NfXLL9LEYw",
        "colab_type": "text"
      },
      "cell_type": "markdown",
      "source": [
        "## Validating our approach using K-fold validation\n",
        "\n",
        "\n",
        "To evaluate our network while we keep adjusting its parameters (such as the number of epochs used for training), we could simply split the \n",
        "data into a training set and a validation set, as we were doing in our previous examples. However, because we have so few data points, the \n",
        "validation set would end up being very small (e.g. about 100 examples). A consequence is that our validation scores may change a lot \n",
        "depending on _which_ data points we choose to use for validation and which we choose for training, i.e. the validation scores may have a \n",
        "high _variance_ with regard to the validation split. This would prevent us from reliably evaluating our model.\n",
        "\n",
        "The best practice in such situations is to use K-fold cross-validation. It consists of splitting the available data into K partitions \n",
        "(typically K=4 or 5), then instantiating K identical models, and training each one on K-1 partitions while evaluating on the remaining \n",
        "partition. The validation score for the model used would then be the average of the K validation scores obtained."
      ]
    },
    {
      "metadata": {
        "id": "tYSPcmH_LEY0",
        "colab_type": "text"
      },
      "cell_type": "markdown",
      "source": [
        "In terms of code, this is straightforward:"
      ]
    },
    {
      "metadata": {
        "id": "6wW07NSnLEY5",
        "colab_type": "code",
        "colab": {
          "base_uri": "https://localhost:8080/",
          "height": 85
        },
        "outputId": "d09f5de0-11cb-46d2-ad52-0dc1f377984e"
      },
      "cell_type": "code",
      "source": [
        "import numpy as np\n",
        "\n",
        "k = 4\n",
        "num_val_samples = len(train_data) // k\n",
        "num_epochs = 100\n",
        "all_scores = []\n",
        "for i in range(k):\n",
        "    print('processing fold #', i)\n",
        "    # Prepare the validation data: data from partition # k\n",
        "    val_data = train_data[i * num_val_samples: (i + 1) * num_val_samples]\n",
        "    val_targets = train_targets[i * num_val_samples: (i + 1) * num_val_samples]\n",
        "\n",
        "    # Prepare the training data: data from all other partitions\n",
        "    partial_train_data = np.concatenate(\n",
        "        [train_data[:i * num_val_samples],\n",
        "         train_data[(i + 1) * num_val_samples:]],\n",
        "        axis=0)\n",
        "    partial_train_targets = np.concatenate(\n",
        "        [train_targets[:i * num_val_samples],\n",
        "         train_targets[(i + 1) * num_val_samples:]],\n",
        "        axis=0)\n",
        "\n",
        "    # Build the Keras model (already compiled)\n",
        "    model = build_model()\n",
        "    # Train the model (in silent mode, verbose=0)\n",
        "    model.fit(partial_train_data, partial_train_targets,\n",
        "              epochs=num_epochs, batch_size=1, verbose=0)\n",
        "    # Evaluate the model on the validation data\n",
        "    val_mse, val_mae = model.evaluate(val_data, val_targets, verbose=0)\n",
        "    all_scores.append(val_mae)"
      ],
      "execution_count": 20,
      "outputs": [
        {
          "output_type": "stream",
          "text": [
            "processing fold # 0\n",
            "processing fold # 1\n",
            "processing fold # 2\n",
            "processing fold # 3\n"
          ],
          "name": "stdout"
        }
      ]
    },
    {
      "metadata": {
        "id": "AT6NaM8ZLEZZ",
        "colab_type": "code",
        "colab": {
          "base_uri": "https://localhost:8080/",
          "height": 34
        },
        "outputId": "0c32d1b9-7db1-46cd-edf0-c3f867db3eee"
      },
      "cell_type": "code",
      "source": [
        "all_scores"
      ],
      "execution_count": 21,
      "outputs": [
        {
          "output_type": "execute_result",
          "data": {
            "text/plain": [
              "[2354.663330078125, 1742.2227783203125, 43.39729309082031, 3453.175537109375]"
            ]
          },
          "metadata": {
            "tags": []
          },
          "execution_count": 21
        }
      ]
    },
    {
      "metadata": {
        "id": "OcO7T09ALEZr",
        "colab_type": "code",
        "colab": {
          "base_uri": "https://localhost:8080/",
          "height": 34
        },
        "outputId": "873b4a7b-686c-4781-906e-7976efb36357"
      },
      "cell_type": "code",
      "source": [
        "np.mean(all_scores)"
      ],
      "execution_count": 22,
      "outputs": [
        {
          "output_type": "execute_result",
          "data": {
            "text/plain": [
              "1898.3647346496582"
            ]
          },
          "metadata": {
            "tags": []
          },
          "execution_count": 22
        }
      ]
    },
    {
      "metadata": {
        "id": "tjYLsr97LEaA",
        "colab_type": "text"
      },
      "cell_type": "markdown",
      "source": [
        "\n",
        "As you can notice, the different runs do indeed show rather different validation scores, from 2.1 to 2.9. Their average (2.4) is a much more \n",
        "reliable metric than any single of these scores -- that's the entire point of K-fold cross-validation. In this case, we are off by \\$2,400 on \n",
        "average, which is still significant considering that the prices range from \\$10,000 to \\$50,000. \n",
        "\n",
        "Let's try training the network for a bit longer: 500 epochs. To keep a record of how well the model did at each epoch, we will modify our training loop \n",
        "to save the per-epoch validation score log:"
      ]
    },
    {
      "metadata": {
        "id": "vncU0cUSLEaD",
        "colab_type": "code",
        "colab": {}
      },
      "cell_type": "code",
      "source": [
        "from keras import backend as K\n",
        "\n",
        "# Some memory clean-up\n",
        "K.clear_session()"
      ],
      "execution_count": 0,
      "outputs": []
    },
    {
      "metadata": {
        "id": "tjJUno3_LEaU",
        "colab_type": "code",
        "colab": {
          "base_uri": "https://localhost:8080/",
          "height": 85
        },
        "outputId": "2ac03f70-0450-49cb-e768-4f0b8c6f231a"
      },
      "cell_type": "code",
      "source": [
        "num_epochs = 500\n",
        "all_mae_histories = []\n",
        "for i in range(k):\n",
        "    print('processing fold #', i)\n",
        "    # Prepare the validation data: data from partition # k\n",
        "    val_data = train_data[i * num_val_samples: (i + 1) * num_val_samples]\n",
        "    val_targets = train_targets[i * num_val_samples: (i + 1) * num_val_samples]\n",
        "\n",
        "    # Prepare the training data: data from all other partitions\n",
        "    partial_train_data = np.concatenate(\n",
        "        [train_data[:i * num_val_samples],\n",
        "         train_data[(i + 1) * num_val_samples:]],\n",
        "        axis=0)\n",
        "    partial_train_targets = np.concatenate(\n",
        "        [train_targets[:i * num_val_samples],\n",
        "         train_targets[(i + 1) * num_val_samples:]],\n",
        "        axis=0)\n",
        "\n",
        "    # Build the Keras model (already compiled)\n",
        "    model = build_model()\n",
        "    # Train the model (in silent mode, verbose=0)\n",
        "    history = model.fit(partial_train_data, partial_train_targets,\n",
        "                        validation_data=(val_data, val_targets),\n",
        "                        epochs=num_epochs, batch_size=1, verbose=0)\n",
        "    mae_history = history.history['val_mean_absolute_error']\n",
        "    all_mae_histories.append(mae_history)"
      ],
      "execution_count": 24,
      "outputs": [
        {
          "output_type": "stream",
          "text": [
            "processing fold # 0\n",
            "processing fold # 1\n",
            "processing fold # 2\n",
            "processing fold # 3\n"
          ],
          "name": "stdout"
        }
      ]
    },
    {
      "metadata": {
        "id": "4jPLaCVXLEak",
        "colab_type": "text"
      },
      "cell_type": "markdown",
      "source": [
        "We can then compute the average of the per-epoch MAE scores for all folds:"
      ]
    },
    {
      "metadata": {
        "id": "wjnyY4BoLEan",
        "colab_type": "code",
        "colab": {}
      },
      "cell_type": "code",
      "source": [
        "average_mae_history = [\n",
        "    np.mean([x[i] for x in all_mae_histories]) for i in range(num_epochs)]"
      ],
      "execution_count": 0,
      "outputs": []
    },
    {
      "metadata": {
        "id": "2jUd0rGGLEa4",
        "colab_type": "text"
      },
      "cell_type": "markdown",
      "source": [
        "Let's plot this:"
      ]
    },
    {
      "metadata": {
        "id": "9aJL4HX8LEa9",
        "colab_type": "code",
        "colab": {
          "base_uri": "https://localhost:8080/",
          "height": 361
        },
        "outputId": "1e13bd3d-4e52-49f5-cbf1-4f778db5ae25"
      },
      "cell_type": "code",
      "source": [
        "import matplotlib.pyplot as plt\n",
        "\n",
        "plt.plot(range(1, len(average_mae_history) + 1), average_mae_history)\n",
        "plt.xlabel('Epochs')\n",
        "plt.ylabel('Validation MAE')\n",
        "plt.show()"
      ],
      "execution_count": 26,
      "outputs": [
        {
          "output_type": "display_data",
          "data": {
            "image/png": "[encoded data removed]",
            "text/plain": [
              "<matplotlib.figure.Figure at 0x7f1271d8bf98>"
            ]
          },
          "metadata": {
            "tags": []
          }
        }
      ]
    },
    {
      "metadata": {
        "id": "FllDM1eQLEbP",
        "colab_type": "text"
      },
      "cell_type": "markdown",
      "source": [
        "\n",
        "It may be a bit hard to see the plot due to scaling issues and relatively high variance. Let's:\n",
        "\n",
        "* Omit the first 10 data points, which are on a different scale from the rest of the curve.\n",
        "* Replace each point with an exponential moving average of the previous points, to obtain a smooth curve."
      ]
    },
    {
      "metadata": {
        "id": "S9z7s950LEba",
        "colab_type": "code",
        "colab": {
          "base_uri": "https://localhost:8080/",
          "height": 361
        },
        "outputId": "646de558-9593-45af-823a-be1f0486f996"
      },
      "cell_type": "code",
      "source": [
        "def smooth_curve(points, factor=0.9):\n",
        "  smoothed_points = []\n",
        "  for point in points:\n",
        "    if smoothed_points:\n",
        "      previous = smoothed_points[-1]\n",
        "      smoothed_points.append(previous * factor + point * (1 - factor))\n",
        "    else:\n",
        "      smoothed_points.append(point)\n",
        "  return smoothed_points\n",
        "\n",
        "smooth_mae_history = smooth_curve(average_mae_history[10:])\n",
        "\n",
        "plt.plot(range(1, len(smooth_mae_history) + 1), smooth_mae_history)\n",
        "plt.xlabel('Epochs')\n",
        "plt.ylabel('Validation MAE')\n",
        "plt.show()"
      ],
      "execution_count": 27,
      "outputs": [
        {
          "output_type": "display_data",
          "data": {
            "image/png": "[encoded data removed]",
            "text/plain": [
              "<matplotlib.figure.Figure at 0x7f1271e72f60>"
            ]
          },
          "metadata": {
            "tags": []
          }
        }
      ]
    },
    {
      "metadata": {
        "id": "FowRnUIOLEbu",
        "colab_type": "text"
      },
      "cell_type": "markdown",
      "source": [
        "\n",
        "According to this plot, it seems that validation MAE stops improving significantly after 80 epochs. Past that point, we start overfitting.\n",
        "\n",
        "Once we are done tuning other parameters of our model (besides the number of epochs, we could also adjust the size of the hidden layers), we \n",
        "can train a final \"production\" model on all of the training data, with the best parameters, then look at its performance on the test data:"
      ]
    },
    {
      "metadata": {
        "id": "-ak3gJTMLEcN",
        "colab_type": "code",
        "colab": {
          "base_uri": "https://localhost:8080/",
          "height": 34
        },
        "outputId": "15a3556a-3ea4-4e86-cf26-8b2981d7ffd9"
      },
      "cell_type": "code",
      "source": [
        "# Get a fresh, compiled model.\n",
        "model = build_model()\n",
        "# Train it on the entirety of the data.\n",
        "model.fit(train_data, train_targets,\n",
        "          epochs=50, batch_size=20, verbose=0)\n",
        "test_mse_score, test_mae_score = model.evaluate(test_data, test_targets)"
      ],
      "execution_count": 28,
      "outputs": [
        {
          "output_type": "stream",
          "text": [
            "118/118 [==============================] - 0s 491us/step\n"
          ],
          "name": "stdout"
        }
      ]
    },
    {
      "metadata": {
        "id": "iOVViEDFLEcw",
        "colab_type": "code",
        "colab": {
          "base_uri": "https://localhost:8080/",
          "height": 34
        },
        "outputId": "65f82c6e-2771-4742-fe5b-f1db6b151d50"
      },
      "cell_type": "code",
      "source": [
        "test_mae_score"
      ],
      "execution_count": 29,
      "outputs": [
        {
          "output_type": "execute_result",
          "data": {
            "text/plain": [
              "923.5684617899232"
            ]
          },
          "metadata": {
            "tags": []
          },
          "execution_count": 29
        }
      ]
    },
    {
      "metadata": {
        "id": "xIr_3fcp0qUh",
        "colab_type": "code",
        "colab": {
          "base_uri": "https://localhost:8080/",
          "height": 34
        },
        "outputId": "1db15845-bbd9-4c95-f21b-7aa14b168f5f"
      },
      "cell_type": "code",
      "source": [
        "history_dict = history.history\n",
        "history_dict.keys()\n",
        "# [u'acc', u'loss', u'val_acc', u'val_loss']"
      ],
      "execution_count": 30,
      "outputs": [
        {
          "output_type": "execute_result",
          "data": {
            "text/plain": [
              "dict_keys(['val_loss', 'val_mean_absolute_error', 'loss', 'mean_absolute_error'])"
            ]
          },
          "metadata": {
            "tags": []
          },
          "execution_count": 30
        }
      ]
    },
    {
      "metadata": {
        "id": "nrX8Zrk01Fjb",
        "colab_type": "code",
        "colab": {
          "base_uri": "https://localhost:8080/",
          "height": 376
        },
        "outputId": "f86d8e93-fdbc-4897-ba00-dd19aa5ad748"
      },
      "cell_type": "code",
      "source": [
        "import matplotlib.pyplot as plt\n",
        "\n",
        "loss = history.history['loss']\n",
        "val_loss = history.history['val_loss']\n",
        "\n",
        "epochs = range(1, len(loss) + 1)\n",
        "\n",
        "plt.plot(epochs, loss, 'bo', label='Training loss')\n",
        "plt.plot(epochs, val_loss, 'b', label='Validation loss')\n",
        "plt.title('Training and validation loss')\n",
        "plt.xlabel('Epochs')\n",
        "plt.ylabel('Loss')\n",
        "plt.legend()\n",
        "\n",
        "plt.show()"
      ],
      "execution_count": 31,
      "outputs": [
        {
          "output_type": "display_data",
          "data": {
            "image/png": "[encoded data removed]",
            "text/plain": [
              "<matplotlib.figure.Figure at 0x7f126eaa3358>"
            ]
          },
          "metadata": {
            "tags": []
          }
        }
      ]
    },
    {
      "metadata": {
        "id": "0990ubJV1E1R",
        "colab_type": "code",
        "colab": {
          "base_uri": "https://localhost:8080/",
          "height": 376
        },
        "outputId": "b758ba3d-a9f4-4d26-9d02-9656322c5fb8"
      },
      "cell_type": "code",
      "source": [
        "plt.clf()   # clear figure\n",
        "\n",
        "acc = history.history['mean_absolute_error']\n",
        "val_acc = history.history['val_mean_absolute_error']\n",
        "\n",
        "plt.plot(epochs, acc, 'bo', label='Training acc')\n",
        "plt.plot(epochs, val_acc, 'b', label='Validation acc')\n",
        "plt.title('Training and validation accuracy')\n",
        "plt.xlabel('Epochs')\n",
        "plt.ylabel('Loss')\n",
        "plt.legend()\n",
        "\n",
        "plt.show()"
      ],
      "execution_count": 32,
      "outputs": [
        {
          "output_type": "display_data",
          "data": {
            "image/png": "[encoded data removed]",
            "text/plain": [
              "<matplotlib.figure.Figure at 0x7f126eaa3198>"
            ]
          },
          "metadata": {
            "tags": []
          }
        }
      ]
    },
    {
      "metadata": {
        "id": "WkE2Y2KN1d4w",
        "colab_type": "code",
        "colab": {}
      },
      "cell_type": "code",
      "source": [
        ""
      ],
      "execution_count": 0,
      "outputs": []
    },
    {
      "metadata": {
        "id": "THlwzYIQLEdB",
        "colab_type": "text"
      },
      "cell_type": "markdown",
      "source": [
        "We are still off by about \\$2,550."
      ]
    },
    {
      "metadata": {
        "id": "PeydBdgHLEdE",
        "colab_type": "text"
      },
      "cell_type": "markdown",
      "source": [
        "## Wrapping up\n",
        "\n",
        "\n",
        "Here's what you should take away from this example:\n",
        "\n",
        "* Regression is done using different loss functions from classification; Mean Squared Error (MSE) is a commonly used loss function for \n",
        "regression.\n",
        "* Similarly, evaluation metrics to be used for regression differ from those used for classification; naturally the concept of \"accuracy\" \n",
        "does not apply for regression. A common regression metric is Mean Absolute Error (MAE).\n",
        "* When features in the input data have values in different ranges, each feature should be scaled independently as a preprocessing step.\n",
        "* When there is little data available, using K-Fold validation is a great way to reliably evaluate a model.\n",
        "* When little training data is available, it is preferable to use a small network with very few hidden layers (typically only one or two), \n",
        "in order to avoid severe overfitting.\n",
        "\n",
        "This example concludes our series of three introductory practical examples. You are now able to handle common types of problems with vector data input:\n",
        "\n",
        "* Binary (2-class) classification.\n",
        "* Multi-class, single-label classification.\n",
        "* Scalar regression.\n",
        "\n",
        "In the next chapter, you will acquire a more formal understanding of some of the concepts you have encountered in these first examples, \n",
        "such as data preprocessing, model evaluation, and overfitting."
      ]
    }
  ]
}